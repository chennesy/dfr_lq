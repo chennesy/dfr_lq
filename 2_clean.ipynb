{
 "cells": [
  {
   "cell_type": "code",
   "execution_count": 20,
   "metadata": {},
   "outputs": [],
   "source": [
    "#libraries for importing and parsing jstor dfr files\n",
    "import pandas as pd\n",
    "import glob \n",
    "import re\n",
    "import numpy as np\n",
    "import csv"
   ]
  },
  {
   "cell_type": "code",
   "execution_count": 21,
   "metadata": {},
   "outputs": [
    {
     "data": {
      "text/html": [
       "<div>\n",
       "<style scoped>\n",
       "    .dataframe tbody tr th:only-of-type {\n",
       "        vertical-align: middle;\n",
       "    }\n",
       "\n",
       "    .dataframe tbody tr th {\n",
       "        vertical-align: top;\n",
       "    }\n",
       "\n",
       "    .dataframe thead th {\n",
       "        text-align: right;\n",
       "    }\n",
       "</style>\n",
       "<table border=\"1\" class=\"dataframe\">\n",
       "  <thead>\n",
       "    <tr style=\"text-align: right;\">\n",
       "      <th></th>\n",
       "      <th>file_name</th>\n",
       "      <th>journal_doi</th>\n",
       "      <th>journal_jcode</th>\n",
       "      <th>journal_pub_id</th>\n",
       "      <th>journal_title</th>\n",
       "      <th>article_doi</th>\n",
       "      <th>article_pub_id</th>\n",
       "      <th>article_jcode</th>\n",
       "      <th>article_type</th>\n",
       "      <th>article_title</th>\n",
       "      <th>volume</th>\n",
       "      <th>issue</th>\n",
       "      <th>language</th>\n",
       "      <th>pub_day</th>\n",
       "      <th>pub_month</th>\n",
       "      <th>pub_year</th>\n",
       "      <th>first_page</th>\n",
       "      <th>last_page</th>\n",
       "      <th>page_range</th>\n",
       "    </tr>\n",
       "  </thead>\n",
       "  <tbody>\n",
       "    <tr>\n",
       "      <th>0</th>\n",
       "      <td>journal-article-10.2307_40039664</td>\n",
       "      <td></td>\n",
       "      <td>libraryq</td>\n",
       "      <td></td>\n",
       "      <td>The Library Quarterly: Information, Community,...</td>\n",
       "      <td></td>\n",
       "      <td></td>\n",
       "      <td>40039664</td>\n",
       "      <td>book-review</td>\n",
       "      <td></td>\n",
       "      <td>1</td>\n",
       "      <td>3</td>\n",
       "      <td>eng</td>\n",
       "      <td>1</td>\n",
       "      <td>7</td>\n",
       "      <td>1931</td>\n",
       "      <td>347</td>\n",
       "      <td>349</td>\n",
       "      <td></td>\n",
       "    </tr>\n",
       "    <tr>\n",
       "      <th>1</th>\n",
       "      <td>journal-article-10.2307_4304427</td>\n",
       "      <td></td>\n",
       "      <td>libraryq</td>\n",
       "      <td></td>\n",
       "      <td>The Library Quarterly: Information, Community,...</td>\n",
       "      <td></td>\n",
       "      <td></td>\n",
       "      <td>4304427</td>\n",
       "      <td>book-review</td>\n",
       "      <td></td>\n",
       "      <td>25</td>\n",
       "      <td>2</td>\n",
       "      <td>eng</td>\n",
       "      <td>1</td>\n",
       "      <td>4</td>\n",
       "      <td>1955</td>\n",
       "      <td>193</td>\n",
       "      <td>194</td>\n",
       "      <td>193-194</td>\n",
       "    </tr>\n",
       "    <tr>\n",
       "      <th>2</th>\n",
       "      <td>journal-article-10.2307_4305466</td>\n",
       "      <td></td>\n",
       "      <td>libraryq</td>\n",
       "      <td></td>\n",
       "      <td>The Library Quarterly: Information, Community,...</td>\n",
       "      <td></td>\n",
       "      <td></td>\n",
       "      <td>4305466</td>\n",
       "      <td>misc</td>\n",
       "      <td>Books Received</td>\n",
       "      <td>34</td>\n",
       "      <td>2</td>\n",
       "      <td>eng</td>\n",
       "      <td>1</td>\n",
       "      <td>4</td>\n",
       "      <td>1964</td>\n",
       "      <td>225</td>\n",
       "      <td>227</td>\n",
       "      <td>225-227</td>\n",
       "    </tr>\n",
       "    <tr>\n",
       "      <th>3</th>\n",
       "      <td>journal-article-10.2307_4304137</td>\n",
       "      <td></td>\n",
       "      <td>libraryq</td>\n",
       "      <td></td>\n",
       "      <td>The Library Quarterly: Information, Community,...</td>\n",
       "      <td></td>\n",
       "      <td></td>\n",
       "      <td>4304137</td>\n",
       "      <td>research-article</td>\n",
       "      <td>Timothy Cole and the \"Century\"</td>\n",
       "      <td>22</td>\n",
       "      <td>3</td>\n",
       "      <td>eng</td>\n",
       "      <td>1</td>\n",
       "      <td>7</td>\n",
       "      <td>1952</td>\n",
       "      <td>232</td>\n",
       "      <td>239</td>\n",
       "      <td>232-239</td>\n",
       "    </tr>\n",
       "    <tr>\n",
       "      <th>4</th>\n",
       "      <td>journal-article-10.2307_4303738</td>\n",
       "      <td></td>\n",
       "      <td>libraryq</td>\n",
       "      <td></td>\n",
       "      <td>The Library Quarterly: Information, Community,...</td>\n",
       "      <td></td>\n",
       "      <td></td>\n",
       "      <td>4303738</td>\n",
       "      <td>book-review</td>\n",
       "      <td></td>\n",
       "      <td>19</td>\n",
       "      <td>1</td>\n",
       "      <td>eng</td>\n",
       "      <td>1</td>\n",
       "      <td>1</td>\n",
       "      <td>1949</td>\n",
       "      <td>59</td>\n",
       "      <td>61</td>\n",
       "      <td>59-61</td>\n",
       "    </tr>\n",
       "  </tbody>\n",
       "</table>\n",
       "</div>"
      ],
      "text/plain": [
       "                          file_name journal_doi journal_jcode journal_pub_id  \\\n",
       "0  journal-article-10.2307_40039664                  libraryq                  \n",
       "1   journal-article-10.2307_4304427                  libraryq                  \n",
       "2   journal-article-10.2307_4305466                  libraryq                  \n",
       "3   journal-article-10.2307_4304137                  libraryq                  \n",
       "4   journal-article-10.2307_4303738                  libraryq                  \n",
       "\n",
       "                                       journal_title article_doi  \\\n",
       "0  The Library Quarterly: Information, Community,...               \n",
       "1  The Library Quarterly: Information, Community,...               \n",
       "2  The Library Quarterly: Information, Community,...               \n",
       "3  The Library Quarterly: Information, Community,...               \n",
       "4  The Library Quarterly: Information, Community,...               \n",
       "\n",
       "  article_pub_id article_jcode      article_type  \\\n",
       "0                     40039664       book-review   \n",
       "1                      4304427       book-review   \n",
       "2                      4305466              misc   \n",
       "3                      4304137  research-article   \n",
       "4                      4303738       book-review   \n",
       "\n",
       "                    article_title  volume issue language pub_day  pub_month  \\\n",
       "0                                       1     3      eng       1          7   \n",
       "1                                      25     2      eng       1          4   \n",
       "2                  Books Received      34     2      eng       1          4   \n",
       "3  Timothy Cole and the \"Century\"      22     3      eng       1          7   \n",
       "4                                      19     1      eng       1          1   \n",
       "\n",
       "   pub_year first_page last_page page_range  \n",
       "0      1931        347       349             \n",
       "1      1955        193       194    193-194  \n",
       "2      1964        225       227    225-227  \n",
       "3      1952        232       239    232-239  \n",
       "4      1949         59        61      59-61  "
      ]
     },
     "execution_count": 21,
     "metadata": {},
     "output_type": "execute_result"
    }
   ],
   "source": [
    "#load the metadata from R\n",
    "df_R = pd.read_csv('part1_journal_article_jst_get_article-1.csv', encoding='utf-8', na_filter=False)\n",
    "df_R.head()"
   ]
  },
  {
   "cell_type": "code",
   "execution_count": 22,
   "metadata": {},
   "outputs": [
    {
     "ename": "TypeError",
     "evalue": "object of type 'generator' has no len()",
     "output_type": "error",
     "traceback": [
      "\u001b[0;31m---------------------------------------------------------------------------\u001b[0m",
      "\u001b[0;31mTypeError\u001b[0m                                 Traceback (most recent call last)",
      "\u001b[0;32m<ipython-input-22-d1766dc68417>\u001b[0m in \u001b[0;36m<module>\u001b[0;34m\u001b[0m\n\u001b[1;32m      3\u001b[0m \u001b[0mngrams\u001b[0m \u001b[0;34m=\u001b[0m \u001b[0mglob\u001b[0m\u001b[0;34m.\u001b[0m\u001b[0miglob\u001b[0m\u001b[0;34m(\u001b[0m\u001b[0;34m\"ngrams/*.txt\"\u001b[0m\u001b[0;34m)\u001b[0m\u001b[0;34m\u001b[0m\u001b[0;34m\u001b[0m\u001b[0m\n\u001b[1;32m      4\u001b[0m \u001b[0mstarting_article_count\u001b[0m \u001b[0;34m=\u001b[0m \u001b[0mlen\u001b[0m\u001b[0;34m(\u001b[0m\u001b[0mdf_R\u001b[0m\u001b[0;34m)\u001b[0m\u001b[0;34m\u001b[0m\u001b[0;34m\u001b[0m\u001b[0m\n\u001b[0;32m----> 5\u001b[0;31m \u001b[0;32massert\u001b[0m \u001b[0mstarting_article_count\u001b[0m \u001b[0;34m==\u001b[0m \u001b[0mlen\u001b[0m\u001b[0;34m(\u001b[0m\u001b[0mngrams\u001b[0m\u001b[0;34m)\u001b[0m \u001b[0;31m# Better test here? Is there some way to capture the expected number of articles?\u001b[0m\u001b[0;34m\u001b[0m\u001b[0;34m\u001b[0m\u001b[0m\n\u001b[0m",
      "\u001b[0;31mTypeError\u001b[0m: object of type 'generator' has no len()"
     ]
    }
   ],
   "source": [
    "#how many articles are in the metadata file?\n",
    "#ngrams = glob.iglob(\"ngrams/*.txt\") # Fix this so it's a list and not a generator!\n",
    "starting_article_count = len(df_R)\n",
    "assert starting_article_count == len(ngrams)"
   ]
  },
  {
   "cell_type": "code",
   "execution_count": 4,
   "metadata": {},
   "outputs": [
    {
     "name": "stdout",
     "output_type": "stream",
     "text": [
      "no articles with title \"The Cover\"\n"
     ]
    }
   ],
   "source": [
    "#remove \"articles\" of front and back matter from corpus\n",
    "#drop all rows with article_title of \"Front Matter\", \"The Cover Design\", \"The Cover\", \"Back Matter\", \"Volume Information\"\n",
    "\n",
    "def article_count_for_title(df_R, article_title):\n",
    "    return len(df_R[df_R['article_title']==article_title])\n",
    "\n",
    "# Remove 'The Cover', since there are no articles with that title.\n",
    "for article_title in ['Front Matter','Back Matter','The Cover','Cover Design','Volume Information',]:\n",
    "    if article_count_for_title(df_R, article_title) == 0:\n",
    "        print(f'no articles with title \"{article_title}\"')\n",
    "        continue\n",
    "    df_R = df_R[~(df_R['article_title']==article_title)]\n",
    "    assert article_count_for_title(df_R, article_title) == 0\n",
    "# Add output for number of articles removed?"
   ]
  },
  {
   "cell_type": "code",
   "execution_count": 5,
   "metadata": {},
   "outputs": [],
   "source": [
    "#how many articles remain after removing articles above? Probably unnecessary, given the tests above.\n",
    "len(df_R) #from 8808 articles down to 7773\n",
    "assert len(df_R) < starting_article_count\n",
    "assert len(df_R) > 0 # Better test here? Is there some way to be more precise about our expectations?"
   ]
  },
  {
   "cell_type": "code",
   "execution_count": 6,
   "metadata": {},
   "outputs": [],
   "source": [
    "#move journal_pub_id values for 'libraryq' into journal_jcode column - these were incorrectly mapped via the R import\n",
    "#df_R['journal_pub_id'].unique()\n",
    "def row_count_for_column_value(df_R, column, value):\n",
    "    return len(df_R[df_R[column] == value])\n",
    "\n",
    "journal_pub_id_count = row_count_for_column_value(df_R, 'journal_pub_id', 'libraryq') # 608\n",
    "starting_journal_jcode_count = row_count_for_column_value(df_R, 'journal_jcode', 'libraryq') # 7477\n",
    "df_R.loc[df_R['journal_pub_id']=='libraryq', 'journal_jcode'] = 'libraryq'\n",
    "assert row_count_for_column_value(df_R, 'journal_jcode', 'libraryq') == starting_journal_jcode_count + journal_pub_id_count"
   ]
  },
  {
   "cell_type": "code",
   "execution_count": 7,
   "metadata": {},
   "outputs": [],
   "source": [
    "#create parent journal id by replacing former title codes\n",
    "df_R['jid_combined'] = df_R['journal_jcode']\n",
    "starting_libraryq_count = row_count_for_column_value(df_R, 'jid_combined', 'libraryq') # 8085\n",
    "starting_LQ_count = row_count_for_column_value(df_R, 'jid_combined', 'LQ') # 0 Is this what we expect? May be a holdover from a larger corpus, so can probably remove.\n",
    "# print(starting_LQ_count)\n",
    "df_R['jid_combined'] = df_R['jid_combined'].str.replace('LQ', 'libraryq', regex=False)\n",
    "assert row_count_for_column_value(df_R, 'jid_combined', 'libraryq') == starting_libraryq_count + starting_LQ_count"
   ]
  },
  {
   "cell_type": "code",
   "execution_count": 8,
   "metadata": {},
   "outputs": [],
   "source": [
    "#create id column to match against ngram ids\n",
    "#len(df_R['file_name'].str.contains(r\"^journal-article-\", regex=True, na=False)) # 8099\n",
    "def row_count_for_column_value_regex(df_R, column, regex):\n",
    "    return len(df_R[df_R[column].str.contains(regex, regex=True, na=False)])\n",
    "\n",
    "assert row_count_for_column_value_regex(df_R, 'file_name', r'^journal-article-') > 0\n",
    "df_R['file_name'] = df_R['file_name'].str.replace(r'^journal-article-', '', regex=True)\n",
    "assert row_count_for_column_value_regex(df_R, 'file_name', r'^journal-article-') == 0"
   ]
  },
  {
   "cell_type": "code",
   "execution_count": 9,
   "metadata": {},
   "outputs": [],
   "source": [
    "#export to csv for notebook 2 combination with ngrams\n",
    "df_R.to_csv('output/df-R-cleaned.csv', encoding='utf-8', index=False, header=True)"
   ]
  },
  {
   "cell_type": "code",
   "execution_count": 10,
   "metadata": {},
   "outputs": [
    {
     "name": "stderr",
     "output_type": "stream",
     "text": [
      "[nltk_data] Downloading package stopwords to\n",
      "[nltk_data]     /home/naughton/nltk_data...\n",
      "[nltk_data]   Package stopwords is already up-to-date!\n"
     ]
    }
   ],
   "source": [
    "import nltk\n",
    "from nltk.stem import SnowballStemmer\n",
    "nltk.download('stopwords')\n",
    "from sklearn.feature_extraction.text import CountVectorizer\n",
    "from sklearn.decomposition import LatentDirichletAllocation"
   ]
  },
  {
   "cell_type": "code",
   "execution_count": 19,
   "metadata": {},
   "outputs": [],
   "source": [
    "#weird/inefficient idea here: I'm reconstituting bag of words from word counts to be able to use count vectorizer\n",
    "n_list = []\n",
    "\n",
    "stemmer = SnowballStemmer(\"english\", ignore_stopwords=True)\n",
    "\n",
    "ngrams = glob.iglob(\"ngrams/*.txt\")\n",
    "#cycle through each file\n",
    "\n",
    "for ngram in ngrams:\n",
    "    word_count_map = {}\n",
    "    #create n_id from file name\n",
    "    n_id = ngram[:-11].strip('ngrams/journal-article-') \n",
    "    with open(ngram) as csv_ng:\n",
    "        csvReader = csv.reader(csv_ng, delimiter='\\t')\n",
    "        for row in csvReader:\n",
    "            word, count = row[0], row[1]\n",
    "            if word not in word_count_map:\n",
    "                word_count_map[word] = 0\n",
    "            word_count_map[word] = word_count_map[word] + int(count)\n",
    "\n",
    "    #recreate bag of words from word counts to be able to use wordvectorizer\n",
    "    text = []\n",
    "    for word, count in word_count_map.items():\n",
    "        transformed_word = stemmer.stem(word) #comment this out, and uncomment the following to proceed w/o stemming\n",
    "        #transformed_word = word\n",
    "        word_list = [transformed_word] * count\n",
    "        text.extend(word_list)\n",
    "    text = ' '.join(text) #convert list to string\n",
    "    text = ''.join([i for i in text if not i.isdigit()]) #remove digits from string\n",
    "        \n",
    "    n_tup = (n_id, text)\n",
    "    n_list.append(n_tup) \n",
    "    #add list to dataframe at the end of each file\n",
    "df_n = pd.DataFrame(n_list)\n",
    "df_n.columns = ['n_id', 'body']"
   ]
  },
  {
   "cell_type": "code",
   "execution_count": 17,
   "metadata": {},
   "outputs": [],
   "source": [
    "#sort by id and save to csv\n",
    "df_n.sort_values(by='n_id')\n",
    "df_n.to_csv('output/df-n.csv', encoding='utf-8', index=True, header=True)  "
   ]
  },
  {
   "cell_type": "code",
   "execution_count": 18,
   "metadata": {},
   "outputs": [
    {
     "data": {
      "text/plain": [
       "8808"
      ]
     },
     "execution_count": 18,
     "metadata": {},
     "output_type": "execute_result"
    }
   ],
   "source": [
    "#note we created word vectors for all 8,808 articles in the corpus here. \n",
    "#we'll ignore those that aren't included in the df-R-cleaned.csv (metadata) list though in the next step\n",
    "len(df_n)"
   ]
  },
  {
   "cell_type": "code",
   "execution_count": 20,
   "metadata": {},
   "outputs": [],
   "source": [
    "## STOP HERE and GO TO part 3 ##"
   ]
  }
 ],
 "metadata": {
  "kernelspec": {
   "display_name": "Python 3",
   "language": "python",
   "name": "python3"
  },
  "language_info": {
   "codemirror_mode": {
    "name": "ipython",
    "version": 3
   },
   "file_extension": ".py",
   "mimetype": "text/x-python",
   "name": "python",
   "nbconvert_exporter": "python",
   "pygments_lexer": "ipython3",
   "version": "3.7.2"
  }
 },
 "nbformat": 4,
 "nbformat_minor": 4
}
