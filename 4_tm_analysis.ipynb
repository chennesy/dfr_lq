{
 "cells": [
  {
   "cell_type": "code",
   "execution_count": 2,
   "metadata": {},
   "outputs": [],
   "source": [
    "#libraries for topic modeling\n",
    "import pandas as pd\n",
    "import sys\n",
    "import numpy as np\n",
    "import csv\n",
    "import nltk\n",
    "from nltk.stem import SnowballStemmer\n",
    "from sklearn.feature_extraction.text import CountVectorizer\n",
    "from sklearn.decomposition import LatentDirichletAllocation\n",
    "from IPython.display import display\n",
    "import matplotlib.pyplot as plt\n",
    "# uncomment following line to pip install pyLDAvis as needed\n",
    "#!{sys.executable} -m pip install pyLDAvis\n",
    "from __future__ import print_function\n",
    "import pyLDAvis\n",
    "import pyLDAvis.sklearn\n",
    "import pickle\n",
    "from lxml import etree as ET\n",
    "import glob"
   ]
  },
  {
   "cell_type": "markdown",
   "metadata": {},
   "source": [
    "## Import CSVs\n",
    "* Import df-sparse-cleaned.csv and df-n.csv from the output of `1_tm_import_clean.ipynb`. \n",
    "* Then combine both into a new dataframe to use in this session, 'df_all', matching on n_id and id."
   ]
  },
  {
   "cell_type": "code",
   "execution_count": 3,
   "metadata": {},
   "outputs": [],
   "source": [
    "df_R = pd.read_csv('output/background/df-R-cleaned.csv', encoding='utf-8', na_filter=False) #article metadata\n",
    "df_n = pd.read_csv('output/background/df-n.csv', encoding='utf-8') #article ngrams\n",
    "df_all = df_R.merge(df_n, left_on='file_name', right_on='n_id')"
   ]
  },
  {
   "cell_type": "code",
   "execution_count": 4,
   "metadata": {},
   "outputs": [
    {
     "data": {
      "text/plain": [
       "7773"
      ]
     },
     "execution_count": 4,
     "metadata": {},
     "output_type": "execute_result"
    }
   ],
   "source": [
    "#total number of records to analyze:\n",
    "len(df_all)"
   ]
  },
  {
   "cell_type": "markdown",
   "metadata": {},
   "source": [
    "### Corpus metadata\n",
    "Run the numbers here on the basic outlines of the corpus; number of articles per year, per journal, etc."
   ]
  },
  {
   "cell_type": "code",
   "execution_count": 7,
   "metadata": {},
   "outputs": [],
   "source": [
    "#df_all"
   ]
  },
  {
   "cell_type": "code",
   "execution_count": 5,
   "metadata": {},
   "outputs": [],
   "source": [
    "%matplotlib inline"
   ]
  },
  {
   "cell_type": "code",
   "execution_count": 6,
   "metadata": {},
   "outputs": [],
   "source": [
    "#calculate the number of articles by year\n",
    "year_count = df_R.groupby(['pub_year']).count()[['file_name']]\n",
    "year_count.columns = ['article_count']\n",
    "year_count.to_csv('output/background/articles_per_year.csv', encoding='utf-8', index=True, header=True)"
   ]
  },
  {
   "cell_type": "code",
   "execution_count": 7,
   "metadata": {},
   "outputs": [
    {
     "name": "stderr",
     "output_type": "stream",
     "text": [
      "/anaconda3/lib/python3.7/site-packages/matplotlib/cbook/__init__.py:2349: DeprecationWarning: Using or importing the ABCs from 'collections' instead of from 'collections.abc' is deprecated, and in 3.8 it will stop working\n",
      "  if isinstance(obj, collections.Iterator):\n",
      "/anaconda3/lib/python3.7/site-packages/matplotlib/cbook/__init__.py:2366: DeprecationWarning: Using or importing the ABCs from 'collections' instead of from 'collections.abc' is deprecated, and in 3.8 it will stop working\n",
      "  return list(data) if isinstance(data, collections.MappingView) else data\n"
     ]
    },
    {
     "data": {
      "text/plain": [
       "Text(0.5,1,'LQ Corpus: Number of articles per year')"
      ]
     },
     "execution_count": 7,
     "metadata": {},
     "output_type": "execute_result"
    },
    {
     "data": {
      "image/png": "[encoded data removed]",
      "text/plain": [
       "<Figure size 432x288 with 1 Axes>"
      ]
     },
     "metadata": {
      "needs_background": "light"
     },
     "output_type": "display_data"
    }
   ],
   "source": [
    "#plot articles by year\n",
    "x_year = year_count.index\n",
    "y_count = year_count['article_count']\n",
    "plt.plot(x_year, y_count)\n",
    "plt.ylabel(\"Number of articles\")\n",
    "plt.xlabel(\"Year\")\n",
    "plt.title('LQ Corpus: Number of articles per year')\n",
    "#plt.show()\n",
    "plt.savefig('output/lq_tm/plots/art_per_year.png')"
   ]
  },
  {
   "cell_type": "code",
   "execution_count": 10,
   "metadata": {},
   "outputs": [
    {
     "data": {
      "text/html": [
       "<div>\n",
       "<style scoped>\n",
       "    .dataframe tbody tr th:only-of-type {\n",
       "        vertical-align: middle;\n",
       "    }\n",
       "\n",
       "    .dataframe tbody tr th {\n",
       "        vertical-align: top;\n",
       "    }\n",
       "\n",
       "    .dataframe thead th {\n",
       "        text-align: right;\n",
       "    }\n",
       "</style>\n",
       "<table border=\"1\" class=\"dataframe\">\n",
       "  <thead>\n",
       "    <tr style=\"text-align: right;\">\n",
       "      <th></th>\n",
       "      <th></th>\n",
       "      <th></th>\n",
       "      <th>article_count</th>\n",
       "    </tr>\n",
       "    <tr>\n",
       "      <th>pub_year</th>\n",
       "      <th>volume</th>\n",
       "      <th>issue</th>\n",
       "      <th></th>\n",
       "    </tr>\n",
       "  </thead>\n",
       "  <tbody>\n",
       "    <tr>\n",
       "      <th rowspan=\"4\" valign=\"top\">1931</th>\n",
       "      <th rowspan=\"4\" valign=\"top\">1</th>\n",
       "      <th>1</th>\n",
       "      <td>29</td>\n",
       "    </tr>\n",
       "    <tr>\n",
       "      <th>2</th>\n",
       "      <td>23</td>\n",
       "    </tr>\n",
       "    <tr>\n",
       "      <th>3</th>\n",
       "      <td>23</td>\n",
       "    </tr>\n",
       "    <tr>\n",
       "      <th>4</th>\n",
       "      <td>13</td>\n",
       "    </tr>\n",
       "    <tr>\n",
       "      <th rowspan=\"4\" valign=\"top\">1932</th>\n",
       "      <th rowspan=\"4\" valign=\"top\">2</th>\n",
       "      <th>1</th>\n",
       "      <td>16</td>\n",
       "    </tr>\n",
       "    <tr>\n",
       "      <th>2</th>\n",
       "      <td>22</td>\n",
       "    </tr>\n",
       "    <tr>\n",
       "      <th>3</th>\n",
       "      <td>13</td>\n",
       "    </tr>\n",
       "    <tr>\n",
       "      <th>4</th>\n",
       "      <td>17</td>\n",
       "    </tr>\n",
       "    <tr>\n",
       "      <th rowspan=\"4\" valign=\"top\">1933</th>\n",
       "      <th rowspan=\"4\" valign=\"top\">3</th>\n",
       "      <th>4</th>\n",
       "      <td>20</td>\n",
       "    </tr>\n",
       "    <tr>\n",
       "      <th>3</th>\n",
       "      <td>21</td>\n",
       "    </tr>\n",
       "    <tr>\n",
       "      <th>1</th>\n",
       "      <td>21</td>\n",
       "    </tr>\n",
       "    <tr>\n",
       "      <th>2</th>\n",
       "      <td>18</td>\n",
       "    </tr>\n",
       "    <tr>\n",
       "      <th rowspan=\"4\" valign=\"top\">1934</th>\n",
       "      <th rowspan=\"4\" valign=\"top\">4</th>\n",
       "      <th>1</th>\n",
       "      <td>18</td>\n",
       "    </tr>\n",
       "    <tr>\n",
       "      <th>2</th>\n",
       "      <td>31</td>\n",
       "    </tr>\n",
       "    <tr>\n",
       "      <th>3</th>\n",
       "      <td>28</td>\n",
       "    </tr>\n",
       "    <tr>\n",
       "      <th>4</th>\n",
       "      <td>24</td>\n",
       "    </tr>\n",
       "    <tr>\n",
       "      <th rowspan=\"5\" valign=\"top\">1935</th>\n",
       "      <th rowspan=\"5\" valign=\"top\">5</th>\n",
       "      <th>4</th>\n",
       "      <td>19</td>\n",
       "    </tr>\n",
       "    <tr>\n",
       "      <th>2</th>\n",
       "      <td>21</td>\n",
       "    </tr>\n",
       "    <tr>\n",
       "      <th>3</th>\n",
       "      <td>16</td>\n",
       "    </tr>\n",
       "    <tr>\n",
       "      <th></th>\n",
       "      <td>2</td>\n",
       "    </tr>\n",
       "    <tr>\n",
       "      <th>1</th>\n",
       "      <td>14</td>\n",
       "    </tr>\n",
       "    <tr>\n",
       "      <th rowspan=\"4\" valign=\"top\">1936</th>\n",
       "      <th rowspan=\"4\" valign=\"top\">6</th>\n",
       "      <th>1</th>\n",
       "      <td>14</td>\n",
       "    </tr>\n",
       "    <tr>\n",
       "      <th>2</th>\n",
       "      <td>19</td>\n",
       "    </tr>\n",
       "    <tr>\n",
       "      <th>3</th>\n",
       "      <td>19</td>\n",
       "    </tr>\n",
       "    <tr>\n",
       "      <th>4</th>\n",
       "      <td>20</td>\n",
       "    </tr>\n",
       "    <tr>\n",
       "      <th rowspan=\"4\" valign=\"top\">1937</th>\n",
       "      <th rowspan=\"4\" valign=\"top\">7</th>\n",
       "      <th>4</th>\n",
       "      <td>23</td>\n",
       "    </tr>\n",
       "    <tr>\n",
       "      <th>3</th>\n",
       "      <td>24</td>\n",
       "    </tr>\n",
       "    <tr>\n",
       "      <th>1</th>\n",
       "      <td>19</td>\n",
       "    </tr>\n",
       "    <tr>\n",
       "      <th>2</th>\n",
       "      <td>24</td>\n",
       "    </tr>\n",
       "    <tr>\n",
       "      <th>1938</th>\n",
       "      <th>8</th>\n",
       "      <th>1</th>\n",
       "      <td>23</td>\n",
       "    </tr>\n",
       "    <tr>\n",
       "      <th>...</th>\n",
       "      <th>...</th>\n",
       "      <th>...</th>\n",
       "      <td>...</td>\n",
       "    </tr>\n",
       "    <tr>\n",
       "      <th rowspan=\"2\" valign=\"top\">2008</th>\n",
       "      <th rowspan=\"2\" valign=\"top\">78</th>\n",
       "      <th>2</th>\n",
       "      <td>11</td>\n",
       "    </tr>\n",
       "    <tr>\n",
       "      <th>3</th>\n",
       "      <td>15</td>\n",
       "    </tr>\n",
       "    <tr>\n",
       "      <th rowspan=\"4\" valign=\"top\">2009</th>\n",
       "      <th rowspan=\"4\" valign=\"top\">79</th>\n",
       "      <th>3</th>\n",
       "      <td>13</td>\n",
       "    </tr>\n",
       "    <tr>\n",
       "      <th>4</th>\n",
       "      <td>9</td>\n",
       "    </tr>\n",
       "    <tr>\n",
       "      <th>1</th>\n",
       "      <td>13</td>\n",
       "    </tr>\n",
       "    <tr>\n",
       "      <th>2</th>\n",
       "      <td>9</td>\n",
       "    </tr>\n",
       "    <tr>\n",
       "      <th rowspan=\"4\" valign=\"top\">2010</th>\n",
       "      <th rowspan=\"4\" valign=\"top\">80</th>\n",
       "      <th>1</th>\n",
       "      <td>10</td>\n",
       "    </tr>\n",
       "    <tr>\n",
       "      <th>2</th>\n",
       "      <td>10</td>\n",
       "    </tr>\n",
       "    <tr>\n",
       "      <th>3</th>\n",
       "      <td>7</td>\n",
       "    </tr>\n",
       "    <tr>\n",
       "      <th>4</th>\n",
       "      <td>9</td>\n",
       "    </tr>\n",
       "    <tr>\n",
       "      <th rowspan=\"4\" valign=\"top\">2011</th>\n",
       "      <th rowspan=\"4\" valign=\"top\">81</th>\n",
       "      <th>1</th>\n",
       "      <td>13</td>\n",
       "    </tr>\n",
       "    <tr>\n",
       "      <th>2</th>\n",
       "      <td>8</td>\n",
       "    </tr>\n",
       "    <tr>\n",
       "      <th>3</th>\n",
       "      <td>10</td>\n",
       "    </tr>\n",
       "    <tr>\n",
       "      <th>4</th>\n",
       "      <td>8</td>\n",
       "    </tr>\n",
       "    <tr>\n",
       "      <th rowspan=\"4\" valign=\"top\">2012</th>\n",
       "      <th rowspan=\"4\" valign=\"top\">82</th>\n",
       "      <th>4</th>\n",
       "      <td>12</td>\n",
       "    </tr>\n",
       "    <tr>\n",
       "      <th>3</th>\n",
       "      <td>12</td>\n",
       "    </tr>\n",
       "    <tr>\n",
       "      <th>2</th>\n",
       "      <td>11</td>\n",
       "    </tr>\n",
       "    <tr>\n",
       "      <th>1</th>\n",
       "      <td>11</td>\n",
       "    </tr>\n",
       "    <tr>\n",
       "      <th rowspan=\"4\" valign=\"top\">2013</th>\n",
       "      <th rowspan=\"4\" valign=\"top\">83</th>\n",
       "      <th>1</th>\n",
       "      <td>12</td>\n",
       "    </tr>\n",
       "    <tr>\n",
       "      <th>2</th>\n",
       "      <td>14</td>\n",
       "    </tr>\n",
       "    <tr>\n",
       "      <th>3</th>\n",
       "      <td>16</td>\n",
       "    </tr>\n",
       "    <tr>\n",
       "      <th>4</th>\n",
       "      <td>14</td>\n",
       "    </tr>\n",
       "    <tr>\n",
       "      <th rowspan=\"4\" valign=\"top\">2014</th>\n",
       "      <th rowspan=\"4\" valign=\"top\">84</th>\n",
       "      <th>4</th>\n",
       "      <td>25</td>\n",
       "    </tr>\n",
       "    <tr>\n",
       "      <th>1</th>\n",
       "      <td>16</td>\n",
       "    </tr>\n",
       "    <tr>\n",
       "      <th>2</th>\n",
       "      <td>14</td>\n",
       "    </tr>\n",
       "    <tr>\n",
       "      <th>3</th>\n",
       "      <td>12</td>\n",
       "    </tr>\n",
       "    <tr>\n",
       "      <th rowspan=\"4\" valign=\"top\">2015</th>\n",
       "      <th rowspan=\"4\" valign=\"top\">85</th>\n",
       "      <th>2</th>\n",
       "      <td>15</td>\n",
       "    </tr>\n",
       "    <tr>\n",
       "      <th>3</th>\n",
       "      <td>13</td>\n",
       "    </tr>\n",
       "    <tr>\n",
       "      <th>1</th>\n",
       "      <td>13</td>\n",
       "    </tr>\n",
       "    <tr>\n",
       "      <th>4</th>\n",
       "      <td>15</td>\n",
       "    </tr>\n",
       "  </tbody>\n",
       "</table>\n",
       "<p>342 rows × 1 columns</p>\n",
       "</div>"
      ],
      "text/plain": [
       "                       article_count\n",
       "pub_year volume issue               \n",
       "1931     1      1                 29\n",
       "                2                 23\n",
       "                3                 23\n",
       "                4                 13\n",
       "1932     2      1                 16\n",
       "                2                 22\n",
       "                3                 13\n",
       "                4                 17\n",
       "1933     3      4                 20\n",
       "                3                 21\n",
       "                1                 21\n",
       "                2                 18\n",
       "1934     4      1                 18\n",
       "                2                 31\n",
       "                3                 28\n",
       "                4                 24\n",
       "1935     5      4                 19\n",
       "                2                 21\n",
       "                3                 16\n",
       "                                   2\n",
       "                1                 14\n",
       "1936     6      1                 14\n",
       "                2                 19\n",
       "                3                 19\n",
       "                4                 20\n",
       "1937     7      4                 23\n",
       "                3                 24\n",
       "                1                 19\n",
       "                2                 24\n",
       "1938     8      1                 23\n",
       "...                              ...\n",
       "2008     78     2                 11\n",
       "                3                 15\n",
       "2009     79     3                 13\n",
       "                4                  9\n",
       "                1                 13\n",
       "                2                  9\n",
       "2010     80     1                 10\n",
       "                2                 10\n",
       "                3                  7\n",
       "                4                  9\n",
       "2011     81     1                 13\n",
       "                2                  8\n",
       "                3                 10\n",
       "                4                  8\n",
       "2012     82     4                 12\n",
       "                3                 12\n",
       "                2                 11\n",
       "                1                 11\n",
       "2013     83     1                 12\n",
       "                2                 14\n",
       "                3                 16\n",
       "                4                 14\n",
       "2014     84     4                 25\n",
       "                1                 16\n",
       "                2                 14\n",
       "                3                 12\n",
       "2015     85     2                 15\n",
       "                3                 13\n",
       "                1                 13\n",
       "                4                 15\n",
       "\n",
       "[342 rows x 1 columns]"
      ]
     },
     "execution_count": 10,
     "metadata": {},
     "output_type": "execute_result"
    }
   ],
   "source": [
    "#articles per issue\n",
    "journals = df_R.groupby(['pub_year', 'volume', 'issue']).count()[['file_name']]\n",
    "journals.columns = ['article_count']\n",
    "journals = journals.sort_values('pub_year', ascending=True)\n",
    "journals\n",
    "journals.to_csv('output/background/articles_per_issue.csv', encoding='utf-8', index=True, header=True)"
   ]
  },
  {
   "cell_type": "code",
   "execution_count": 27,
   "metadata": {},
   "outputs": [
    {
     "name": "stdout",
     "output_type": "stream",
     "text": [
      "<class 'pandas.core.frame.DataFrame'>\n",
      "MultiIndex: 342 entries, (1931, 1, 1) to (2015, 85, 4)\n",
      "Data columns (total 1 columns):\n",
      "article_count    342 non-null int64\n",
      "dtypes: int64(1)\n",
      "memory usage: 5.2+ KB\n"
     ]
    }
   ],
   "source": [
    "# number of entries = number of journal issues\n",
    "journals.info()"
   ]
  },
  {
   "cell_type": "code",
   "execution_count": 11,
   "metadata": {},
   "outputs": [
    {
     "name": "stdout",
     "output_type": "stream",
     "text": [
      "Mean articles per issue: 22.728070175438596\n"
     ]
    }
   ],
   "source": [
    "print('Mean articles per issue:', journals.article_count.mean())"
   ]
  },
  {
   "cell_type": "code",
   "execution_count": 30,
   "metadata": {},
   "outputs": [
    {
     "data": {
      "text/plain": [
       "91.44705882352942"
      ]
     },
     "execution_count": 30,
     "metadata": {},
     "output_type": "execute_result"
    }
   ],
   "source": [
    "#articles per year\n",
    "journals = df_R.groupby(['pub_year']).count()[['file_name']]\n",
    "journals.columns = ['article_count']\n",
    "journals = journals.sort_values('pub_year', ascending=True)\n",
    "journals.article_count.mean()\n",
    "#journals.to_csv('output/background/articles_per_year.csv', encoding='utf-8', index=True, header=True)"
   ]
  },
  {
   "cell_type": "code",
   "execution_count": 12,
   "metadata": {},
   "outputs": [],
   "source": [
    "mean_articles_issue = journals.groupby(['pub_year']).mean()[['article_count']]\n",
    "#mean_articles_issue.to_csv('output/background/mean_articles_per_issue.csv', encoding='utf-8', index=True, header=True)"
   ]
  },
  {
   "cell_type": "code",
   "execution_count": 14,
   "metadata": {},
   "outputs": [
    {
     "data": {
      "image/png": "[encoded data removed]",
      "text/plain": [
       "<Figure size 432x288 with 1 Axes>"
      ]
     },
     "metadata": {
      "needs_background": "light"
     },
     "output_type": "display_data"
    }
   ],
   "source": [
    "x_year = mean_articles_issue.index\n",
    "y_count = mean_articles_issue['article_count']\n",
    "plt.plot(x_year, y_count)\n",
    "plt.ylabel(\"Articles per issue\")\n",
    "plt.xlabel(\"Year\")\n",
    "plt.title('LQ Corpus: Mean articles per issue')\n",
    "#plt.show()\n",
    "plt.savefig('output/lq_tm/plots/mean_art_per_issue.png')"
   ]
  },
  {
   "cell_type": "code",
   "execution_count": 10,
   "metadata": {},
   "outputs": [],
   "source": [
    "#count by type of article\n",
    "type_count = df_R.groupby(['article_type']).count()[['file_name']]\n",
    "type_count.columns = ['type_count']\n",
    "type_count = type_count.sort_values('type_count',ascending=False)\n",
    "type_count.to_csv('output/background/article_types.csv', encoding='utf-8', index=True, header=True)"
   ]
  },
  {
   "cell_type": "code",
   "execution_count": 9,
   "metadata": {},
   "outputs": [],
   "source": [
    "#articles per journal title ## Not relevant for LQ study\n",
    "journals_t = df_R.groupby(['journal_title']).count()[['file_name']]\n",
    "journals_t.columns = ['journal_count']\n",
    "journals_t = journals_t.sort_values('journal_count', ascending=False)\n",
    "journals_t.to_csv('output/background/articles_per_journal_title.csv', encoding='utf-8', index=True, header=True)"
   ]
  },
  {
   "cell_type": "code",
   "execution_count": 28,
   "metadata": {},
   "outputs": [
    {
     "data": {
      "text/plain": [
       "16614346"
      ]
     },
     "execution_count": 28,
     "metadata": {},
     "output_type": "execute_result"
    }
   ],
   "source": [
    "#overall wordcount\n",
    "word_count = df_all['body'].apply(lambda x: len(str(x).split()))\n",
    "word_count.sum()"
   ]
  },
  {
   "cell_type": "markdown",
   "metadata": {},
   "source": [
    "### CountVectorizer & LDA Topic Model\n",
    "* Convert wordlists from df_all.body to Term Frequency vector. \n",
    "* tf = term frequency vector\n",
    "* lda = latent dirichlet allocation; fit using tf model"
   ]
  },
  {
   "cell_type": "code",
   "execution_count": 8,
   "metadata": {},
   "outputs": [
    {
     "name": "stdout",
     "output_type": "stream",
     "text": [
      "Extracting tf features for LDA...\n"
     ]
    }
   ],
   "source": [
    "print(\"Extracting tf features for LDA...\")\n",
    "tf_vectorizer = CountVectorizer(max_df=0.70, min_df=0.10,\n",
    "                                max_features=None)\n",
    "\n",
    "tf = tf_vectorizer.fit_transform(df_all.body.values.astype('U'))"
   ]
  },
  {
   "cell_type": "code",
   "execution_count": 17,
   "metadata": {},
   "outputs": [],
   "source": [
    "# list stop words cut off by max_ and min_df thresholds: \n",
    "# max_df removes words that appear in more than 70% of articles and min_df removes words that appear in fewer than 10%\n",
    "# max_df removes 24 words\n",
    "# min_df removes 145,639  words\n",
    "with open('output/stop_words_all.txt', 'w') as f:\n",
    "    for item in tf_vectorizer.stop_words_:\n",
    "        f.write(\"%s\\n\" % item)"
   ]
  },
  {
   "cell_type": "markdown",
   "metadata": {},
   "source": [
    "### LDA\n",
    "This cell currently takes ~15 min"
   ]
  },
  {
   "cell_type": "code",
   "execution_count": 9,
   "metadata": {},
   "outputs": [
    {
     "name": "stdout",
     "output_type": "stream",
     "text": [
      "Fitting LDA models with tf features, n_components=40...\n"
     ]
    },
    {
     "data": {
      "text/plain": [
       "LatentDirichletAllocation(batch_size=128, doc_topic_prior=None,\n",
       "             evaluate_every=-1, learning_decay=0.7,\n",
       "             learning_method='online', learning_offset=10.0,\n",
       "             max_doc_update_iter=100, max_iter=20, mean_change_tol=0.001,\n",
       "             n_components=40, n_jobs=1, n_topics=None, perp_tol=0.1,\n",
       "             random_state=0, topic_word_prior=None,\n",
       "             total_samples=1000000.0, verbose=0)"
      ]
     },
     "execution_count": 9,
     "metadata": {},
     "output_type": "execute_result"
    }
   ],
   "source": [
    "n_components = 40 # set the number of topics based on GridSearchCV best model NOTE: n_topics is deprecated\n",
    "\n",
    "print(\"Fitting LDA models with tf features, \"\n",
    "      \"n_components=%d...\"\n",
    "      % (n_components))\n",
    "\n",
    "#define the lda function, with desired options\n",
    "lda = LatentDirichletAllocation(n_components=n_components, max_iter=20,\n",
    "                                learning_method='online',\n",
    "                                random_state=0)\n",
    "#fit the model\n",
    "lda.fit(tf)"
   ]
  },
  {
   "cell_type": "code",
   "execution_count": 15,
   "metadata": {},
   "outputs": [],
   "source": [
    "#to save model\n",
    "with open('output/lda_model.pk', 'wb') as pickle_file:\n",
    "    pickle.dump(lda, pickle_file)"
   ]
  },
  {
   "cell_type": "code",
   "execution_count": 16,
   "metadata": {},
   "outputs": [],
   "source": [
    "#reload lda model from here when restarting notebook\n",
    "with open('output/lda_model.pk', 'rb') as pickle_file:\n",
    "    lda = pickle.load(pickle_file)\n",
    "# then reload it with\n",
    "#lda = pickle.load('output/lda_model.pk')"
   ]
  },
  {
   "cell_type": "code",
   "execution_count": 18,
   "metadata": {},
   "outputs": [
    {
     "name": "stdout",
     "output_type": "stream",
     "text": [
      "Log Likelihood:  -65649964.560244985\n"
     ]
    }
   ],
   "source": [
    "print(\"Log Likelihood: \", lda.score(tf))"
   ]
  },
  {
   "cell_type": "code",
   "execution_count": 21,
   "metadata": {},
   "outputs": [
    {
     "name": "stdout",
     "output_type": "stream",
     "text": [
      "Perplexity:  744.4134338720977\n"
     ]
    }
   ],
   "source": [
    "print(\"Perplexity: \", lda.perplexity(tf))"
   ]
  },
  {
   "cell_type": "markdown",
   "metadata": {},
   "source": [
    "### Top words per topic"
   ]
  },
  {
   "cell_type": "code",
   "execution_count": 19,
   "metadata": {},
   "outputs": [],
   "source": [
    "#Function to return the top words for each topic\n",
    "n_top_words = 30 # how many words per topic\n",
    "topic_word_list = []\n",
    "def return_top_words(model, feature_names, n_top_words):\n",
    "    for topic_idx, topic in enumerate(model.components_):\n",
    "        #topic_n = \"\\nTopic #%d:\" % topic_idx)\n",
    "        top_words = \" \".join([feature_names[i]\n",
    "                     for i in topic.argsort()[:-n_top_words - 1:-1]])\n",
    "        topic_word_list.append(top_words) \n",
    "    topic_df = pd.DataFrame(topic_word_list)\n",
    "    topic_df.to_csv('output/topic_words_lq_only.csv', encoding='utf-8', index=True, header=True)\n",
    "    return(topic_df)"
   ]
  },
  {
   "cell_type": "markdown",
   "metadata": {},
   "source": [
    "`topic_word_list[x]` will return the top 30 words for each topic"
   ]
  },
  {
   "cell_type": "code",
   "execution_count": 20,
   "metadata": {},
   "outputs": [
    {
     "data": {
      "text/html": [
       "<div>\n",
       "<style scoped>\n",
       "    .dataframe tbody tr th:only-of-type {\n",
       "        vertical-align: middle;\n",
       "    }\n",
       "\n",
       "    .dataframe tbody tr th {\n",
       "        vertical-align: top;\n",
       "    }\n",
       "\n",
       "    .dataframe thead th {\n",
       "        text-align: right;\n",
       "    }\n",
       "</style>\n",
       "<table border=\"1\" class=\"dataframe\">\n",
       "  <thead>\n",
       "    <tr style=\"text-align: right;\">\n",
       "      <th></th>\n",
       "      <th>0</th>\n",
       "    </tr>\n",
       "  </thead>\n",
       "  <tbody>\n",
       "    <tr>\n",
       "      <th>0</th>\n",
       "      <td>read children reader adult fiction young stori...</td>\n",
       "    </tr>\n",
       "    <tr>\n",
       "      <th>1</th>\n",
       "      <td>print press text centuri page edit manuscript ...</td>\n",
       "    </tr>\n",
       "    <tr>\n",
       "      <th>2</th>\n",
       "      <td>journal review articl citat cite literatur sci...</td>\n",
       "    </tr>\n",
       "    <tr>\n",
       "      <th>3</th>\n",
       "      <td>were had build room year time open place when ...</td>\n",
       "    </tr>\n",
       "    <tr>\n",
       "      <th>4</th>\n",
       "      <td>we our what do so can about us like know you m...</td>\n",
       "    </tr>\n",
       "    <tr>\n",
       "      <th>5</th>\n",
       "      <td>educ program school faculti profession student...</td>\n",
       "    </tr>\n",
       "    <tr>\n",
       "      <th>6</th>\n",
       "      <td>nation countri union state unit intern america...</td>\n",
       "    </tr>\n",
       "    <tr>\n",
       "      <th>7</th>\n",
       "      <td>state govern law feder citi local act legal ag...</td>\n",
       "    </tr>\n",
       "    <tr>\n",
       "      <th>8</th>\n",
       "      <td>list index includ titl refer volum bibliograph...</td>\n",
       "    </tr>\n",
       "    <tr>\n",
       "      <th>9</th>\n",
       "      <td>per cent cost circul total number year tabl ti...</td>\n",
       "    </tr>\n",
       "    <tr>\n",
       "      <th>10</th>\n",
       "      <td>her she women who miss men mari york had white...</td>\n",
       "    </tr>\n",
       "    <tr>\n",
       "      <th>11</th>\n",
       "      <td>report associ committe librarian member board ...</td>\n",
       "    </tr>\n",
       "    <tr>\n",
       "      <th>12</th>\n",
       "      <td>document aid map charact geograph code end beg...</td>\n",
       "    </tr>\n",
       "    <tr>\n",
       "      <th>13</th>\n",
       "      <td>school student teacher train colleg cours educ...</td>\n",
       "    </tr>\n",
       "    <tr>\n",
       "      <th>14</th>\n",
       "      <td>paper problem materi tion need may ing should ...</td>\n",
       "    </tr>\n",
       "    <tr>\n",
       "      <th>15</th>\n",
       "      <td>american histori centuri societi were histor p...</td>\n",
       "    </tr>\n",
       "    <tr>\n",
       "      <th>16</th>\n",
       "      <td>author he critic his may what would point seem...</td>\n",
       "    </tr>\n",
       "    <tr>\n",
       "      <th>17</th>\n",
       "      <td>classif subject index system class classifi sc...</td>\n",
       "    </tr>\n",
       "    <tr>\n",
       "      <th>18</th>\n",
       "      <td>paper isbn press edit york associ american chi...</td>\n",
       "    </tr>\n",
       "    <tr>\n",
       "      <th>19</th>\n",
       "      <td>de german ii der la french die et see franc ii...</td>\n",
       "    </tr>\n",
       "    <tr>\n",
       "      <th>20</th>\n",
       "      <td>refer question answer servic user ask libraria...</td>\n",
       "    </tr>\n",
       "    <tr>\n",
       "      <th>21</th>\n",
       "      <td>inform need particip about person seek behavio...</td>\n",
       "    </tr>\n",
       "    <tr>\n",
       "      <th>22</th>\n",
       "      <td>system inform access user comput technolog dat...</td>\n",
       "    </tr>\n",
       "    <tr>\n",
       "      <th>23</th>\n",
       "      <td>his he review catalog art print can we bibliog...</td>\n",
       "    </tr>\n",
       "    <tr>\n",
       "      <th>24</th>\n",
       "      <td>develop focus inform research practic knowledg...</td>\n",
       "    </tr>\n",
       "    <tr>\n",
       "      <th>25</th>\n",
       "      <td>librarian librarianship profession profess li ...</td>\n",
       "    </tr>\n",
       "    <tr>\n",
       "      <th>26</th>\n",
       "      <td>manag media industri organ busi communic infor...</td>\n",
       "    </tr>\n",
       "    <tr>\n",
       "      <th>27</th>\n",
       "      <td>collect archiv materi record manuscript museum...</td>\n",
       "    </tr>\n",
       "    <tr>\n",
       "      <th>28</th>\n",
       "      <td>bibliograph bibliographi british catalogu lond...</td>\n",
       "    </tr>\n",
       "    <tr>\n",
       "      <th>29</th>\n",
       "      <td>publish price copi print trade market press ti...</td>\n",
       "    </tr>\n",
       "    <tr>\n",
       "      <th>30</th>\n",
       "      <td>scienc scholar human art social knowledg scien...</td>\n",
       "    </tr>\n",
       "    <tr>\n",
       "      <th>31</th>\n",
       "      <td>chapter author discuss review present reader s...</td>\n",
       "    </tr>\n",
       "    <tr>\n",
       "      <th>32</th>\n",
       "      <td>social cultur polit communiti societi intellec...</td>\n",
       "    </tr>\n",
       "    <tr>\n",
       "      <th>33</th>\n",
       "      <td>catalog card entri rule name titl head author ...</td>\n",
       "    </tr>\n",
       "    <tr>\n",
       "      <th>34</th>\n",
       "      <td>servic communiti program area plan serv survey...</td>\n",
       "    </tr>\n",
       "    <tr>\n",
       "      <th>35</th>\n",
       "      <td>problem may can function tion must object oper...</td>\n",
       "    </tr>\n",
       "    <tr>\n",
       "      <th>36</th>\n",
       "      <td>were percent studi tabl differ data number mea...</td>\n",
       "    </tr>\n",
       "    <tr>\n",
       "      <th>37</th>\n",
       "      <td>his he had him were who year time man letter a...</td>\n",
       "    </tr>\n",
       "    <tr>\n",
       "      <th>38</th>\n",
       "      <td>research search studi inform term document rel...</td>\n",
       "    </tr>\n",
       "    <tr>\n",
       "      <th>39</th>\n",
       "      <td>titl colleg select list student group were sub...</td>\n",
       "    </tr>\n",
       "  </tbody>\n",
       "</table>\n",
       "</div>"
      ],
      "text/plain": [
       "                                                    0\n",
       "0   read children reader adult fiction young stori...\n",
       "1   print press text centuri page edit manuscript ...\n",
       "2   journal review articl citat cite literatur sci...\n",
       "3   were had build room year time open place when ...\n",
       "4   we our what do so can about us like know you m...\n",
       "5   educ program school faculti profession student...\n",
       "6   nation countri union state unit intern america...\n",
       "7   state govern law feder citi local act legal ag...\n",
       "8   list index includ titl refer volum bibliograph...\n",
       "9   per cent cost circul total number year tabl ti...\n",
       "10  her she women who miss men mari york had white...\n",
       "11  report associ committe librarian member board ...\n",
       "12  document aid map charact geograph code end beg...\n",
       "13  school student teacher train colleg cours educ...\n",
       "14  paper problem materi tion need may ing should ...\n",
       "15  american histori centuri societi were histor p...\n",
       "16  author he critic his may what would point seem...\n",
       "17  classif subject index system class classifi sc...\n",
       "18  paper isbn press edit york associ american chi...\n",
       "19  de german ii der la french die et see franc ii...\n",
       "20  refer question answer servic user ask libraria...\n",
       "21  inform need particip about person seek behavio...\n",
       "22  system inform access user comput technolog dat...\n",
       "23  his he review catalog art print can we bibliog...\n",
       "24  develop focus inform research practic knowledg...\n",
       "25  librarian librarianship profession profess li ...\n",
       "26  manag media industri organ busi communic infor...\n",
       "27  collect archiv materi record manuscript museum...\n",
       "28  bibliograph bibliographi british catalogu lond...\n",
       "29  publish price copi print trade market press ti...\n",
       "30  scienc scholar human art social knowledg scien...\n",
       "31  chapter author discuss review present reader s...\n",
       "32  social cultur polit communiti societi intellec...\n",
       "33  catalog card entri rule name titl head author ...\n",
       "34  servic communiti program area plan serv survey...\n",
       "35  problem may can function tion must object oper...\n",
       "36  were percent studi tabl differ data number mea...\n",
       "37  his he had him were who year time man letter a...\n",
       "38  research search studi inform term document rel...\n",
       "39  titl colleg select list student group were sub..."
      ]
     },
     "execution_count": 20,
     "metadata": {},
     "output_type": "execute_result"
    }
   ],
   "source": [
    "#print the top words per topic, using the function defined above.\n",
    "tf_feature_names = tf_vectorizer.get_feature_names()\n",
    "return_top_words(lda, tf_feature_names, n_top_words)"
   ]
  },
  {
   "cell_type": "markdown",
   "metadata": {},
   "source": [
    "### Most representative articles per topic\n",
    "`article_list[x]` will return the top 10 articles aligned with each topic"
   ]
  },
  {
   "cell_type": "code",
   "execution_count": 22,
   "metadata": {},
   "outputs": [],
   "source": [
    "topic_dist = lda.transform(tf)\n",
    "topic_dist_df = pd.DataFrame(topic_dist)\n",
    "df_w_topics = topic_dist_df.join(df_all)"
   ]
  },
  {
   "cell_type": "code",
   "execution_count": 23,
   "metadata": {},
   "outputs": [],
   "source": [
    "article_list = []\n",
    "d=0\n",
    "while d < n_components:\n",
    "    tup = df_w_topics[['article_jcode', 'article_title', 'article_type', 'journal_title', 'jid_combined', 'pub_year', d]].sort_values(by=[d], ascending=False)[0:10]\n",
    "    article_list.append(tup)\n",
    "    article_list[d].columns = ['article_jcode', 'article_title', 'article_type', 'journal_title', 'jid_combined', 'pub_year', 'prevalence'] \n",
    "    d += 1"
   ]
  },
  {
   "cell_type": "code",
   "execution_count": 24,
   "metadata": {},
   "outputs": [],
   "source": [
    "#add topic column\n",
    "for n, i in enumerate(article_list):\n",
    "    i['topic'] = n\n",
    "article_lists_df = pd.concat(article_list)"
   ]
  },
  {
   "cell_type": "code",
   "execution_count": 21,
   "metadata": {},
   "outputs": [],
   "source": [
    "#article_lists_df.info()"
   ]
  },
  {
   "cell_type": "code",
   "execution_count": 26,
   "metadata": {},
   "outputs": [],
   "source": [
    "#find book review titles in jstor xml since it didn't come through via step 1 (R) and append to top articles list\n",
    "review_list = []\n",
    "for index, row in article_lists_df.iterrows():\n",
    "    if row['article_title'] == '':\n",
    "        jstor_code = row['article_jcode']\n",
    "        #insert code to pull book name and author from XML\n",
    "        review_list.append(jstor_code)\n",
    "reviews_df_list = []\n",
    "for n, review in enumerate(review_list):\n",
    "    xml_files = glob.iglob(\"metadata/*.xml\")\n",
    "    for xml_file in xml_files: \n",
    "        xid = xml_file[:-4].strip('sample-metadata/journal-article-')\n",
    "        xid = xid.split('_')\n",
    "        xid = xid[1]\n",
    "        if xid == review:\n",
    "            #print('MATCH', review, xml_file)\n",
    "            tree = ET.parse(xml_file)\n",
    "            for elem in tree.iter():\n",
    "                string = elem.text\n",
    "                if (string is not None) and (string.strip()):\n",
    "                    path = tree.getelementpath(elem)\n",
    "                    if path == 'front/article-meta/product/source':\n",
    "                        reviewed_book = string\n",
    "                        tup = (xid, reviewed_book)\n",
    "                        #print(tup)\n",
    "                        reviews_df_list.append(tup)\n",
    "        else:\n",
    "            continue\n",
    "reviews_df = pd.DataFrame(reviews_df_list, columns=['jid', 'book_reviewed'])    "
   ]
  },
  {
   "cell_type": "code",
   "execution_count": 27,
   "metadata": {},
   "outputs": [],
   "source": [
    "article_lists_df = article_lists_df.merge(reviews_df, how='outer', left_on='article_jcode', right_on='jid')\n",
    "article_lists_df = article_lists_df.drop(['jid'], axis=1)\n",
    "article_lists_df.loc[article_lists_df['article_type']=='book-review', 'article_title'] = article_lists_df['book_reviewed']\n",
    "article_lists_df = article_lists_df.drop(['book_reviewed'], axis=1)\n",
    "article_lists_df = article_lists_df.sort_values(by=['topic', 'prevalence'], ascending=[True, False])"
   ]
  },
  {
   "cell_type": "code",
   "execution_count": null,
   "metadata": {},
   "outputs": [],
   "source": [
    "#remove full dupe rows (there was one introducted for the article \"Party Girl\")\n",
    "article_lists_df.drop_duplicates(inplace = True) "
   ]
  },
  {
   "cell_type": "code",
   "execution_count": 96,
   "metadata": {},
   "outputs": [],
   "source": [
    "article_lists_df.to_csv('output/top_articles_per_topic_lq.csv', encoding='utf-8', index=False, header=True)"
   ]
  },
  {
   "cell_type": "code",
   "execution_count": 28,
   "metadata": {},
   "outputs": [],
   "source": [
    "#print output to multiple csv files\n",
    "#OPTIONAL - deprecated by full article_lists_df above\n",
    "j=0\n",
    "for i in article_list:\n",
    "    #display(i)\n",
    "    filename = 'output/articles_per_topic/top_articles_' + str(j) + '.csv'\n",
    "    i.to_csv(filename, encoding='utf-8', index=True, header=True)\n",
    "    j += 1"
   ]
  },
  {
   "cell_type": "markdown",
   "metadata": {},
   "source": [
    "### Topics over time"
   ]
  },
  {
   "cell_type": "code",
   "execution_count": 29,
   "metadata": {},
   "outputs": [],
   "source": [
    "df_w_topics['word_count'] = df_w_topics['body'].apply(lambda x: len(str(x).split()))\n",
    "#df_w_topics['word_count']"
   ]
  },
  {
   "cell_type": "code",
   "execution_count": 30,
   "metadata": {},
   "outputs": [],
   "source": [
    "#multiple topic weight by word count\n",
    "topic_columns = range(n_components)\n",
    "col_list = []\n",
    "for num in topic_columns:\n",
    "    col = \"%d_wc\" % num\n",
    "    col_list.append(col)\n",
    "    df_w_topics[col] = df_w_topics[num] * df_w_topics['word_count']\n",
    "#df_w_topics[0:3]"
   ]
  },
  {
   "cell_type": "code",
   "execution_count": 31,
   "metadata": {},
   "outputs": [
    {
     "data": {
      "text/html": [
       "<div>\n",
       "<style scoped>\n",
       "    .dataframe tbody tr th:only-of-type {\n",
       "        vertical-align: middle;\n",
       "    }\n",
       "\n",
       "    .dataframe tbody tr th {\n",
       "        vertical-align: top;\n",
       "    }\n",
       "\n",
       "    .dataframe thead th {\n",
       "        text-align: right;\n",
       "    }\n",
       "</style>\n",
       "<table border=\"1\" class=\"dataframe\">\n",
       "  <thead>\n",
       "    <tr style=\"text-align: right;\">\n",
       "      <th></th>\n",
       "      <th>topic</th>\n",
       "      <th>prevalence</th>\n",
       "    </tr>\n",
       "  </thead>\n",
       "  <tbody>\n",
       "    <tr>\n",
       "      <th>4</th>\n",
       "      <td>4</td>\n",
       "      <td>0.052164</td>\n",
       "    </tr>\n",
       "    <tr>\n",
       "      <th>16</th>\n",
       "      <td>16</td>\n",
       "      <td>0.046975</td>\n",
       "    </tr>\n",
       "    <tr>\n",
       "      <th>35</th>\n",
       "      <td>35</td>\n",
       "      <td>0.046289</td>\n",
       "    </tr>\n",
       "    <tr>\n",
       "      <th>37</th>\n",
       "      <td>37</td>\n",
       "      <td>0.040688</td>\n",
       "    </tr>\n",
       "    <tr>\n",
       "      <th>3</th>\n",
       "      <td>3</td>\n",
       "      <td>0.039892</td>\n",
       "    </tr>\n",
       "    <tr>\n",
       "      <th>31</th>\n",
       "      <td>31</td>\n",
       "      <td>0.039479</td>\n",
       "    </tr>\n",
       "    <tr>\n",
       "      <th>24</th>\n",
       "      <td>24</td>\n",
       "      <td>0.038220</td>\n",
       "    </tr>\n",
       "    <tr>\n",
       "      <th>18</th>\n",
       "      <td>18</td>\n",
       "      <td>0.037981</td>\n",
       "    </tr>\n",
       "    <tr>\n",
       "      <th>8</th>\n",
       "      <td>8</td>\n",
       "      <td>0.037809</td>\n",
       "    </tr>\n",
       "    <tr>\n",
       "      <th>36</th>\n",
       "      <td>36</td>\n",
       "      <td>0.037052</td>\n",
       "    </tr>\n",
       "    <tr>\n",
       "      <th>6</th>\n",
       "      <td>6</td>\n",
       "      <td>0.034352</td>\n",
       "    </tr>\n",
       "    <tr>\n",
       "      <th>14</th>\n",
       "      <td>14</td>\n",
       "      <td>0.033043</td>\n",
       "    </tr>\n",
       "    <tr>\n",
       "      <th>1</th>\n",
       "      <td>1</td>\n",
       "      <td>0.032735</td>\n",
       "    </tr>\n",
       "    <tr>\n",
       "      <th>9</th>\n",
       "      <td>9</td>\n",
       "      <td>0.026977</td>\n",
       "    </tr>\n",
       "    <tr>\n",
       "      <th>22</th>\n",
       "      <td>22</td>\n",
       "      <td>0.026500</td>\n",
       "    </tr>\n",
       "    <tr>\n",
       "      <th>15</th>\n",
       "      <td>15</td>\n",
       "      <td>0.025688</td>\n",
       "    </tr>\n",
       "    <tr>\n",
       "      <th>32</th>\n",
       "      <td>32</td>\n",
       "      <td>0.025540</td>\n",
       "    </tr>\n",
       "    <tr>\n",
       "      <th>13</th>\n",
       "      <td>13</td>\n",
       "      <td>0.025422</td>\n",
       "    </tr>\n",
       "    <tr>\n",
       "      <th>34</th>\n",
       "      <td>34</td>\n",
       "      <td>0.024939</td>\n",
       "    </tr>\n",
       "    <tr>\n",
       "      <th>11</th>\n",
       "      <td>11</td>\n",
       "      <td>0.023973</td>\n",
       "    </tr>\n",
       "    <tr>\n",
       "      <th>27</th>\n",
       "      <td>27</td>\n",
       "      <td>0.023450</td>\n",
       "    </tr>\n",
       "    <tr>\n",
       "      <th>38</th>\n",
       "      <td>38</td>\n",
       "      <td>0.022701</td>\n",
       "    </tr>\n",
       "    <tr>\n",
       "      <th>39</th>\n",
       "      <td>39</td>\n",
       "      <td>0.022555</td>\n",
       "    </tr>\n",
       "    <tr>\n",
       "      <th>30</th>\n",
       "      <td>30</td>\n",
       "      <td>0.022274</td>\n",
       "    </tr>\n",
       "    <tr>\n",
       "      <th>33</th>\n",
       "      <td>33</td>\n",
       "      <td>0.022237</td>\n",
       "    </tr>\n",
       "    <tr>\n",
       "      <th>0</th>\n",
       "      <td>0</td>\n",
       "      <td>0.020752</td>\n",
       "    </tr>\n",
       "    <tr>\n",
       "      <th>21</th>\n",
       "      <td>21</td>\n",
       "      <td>0.020176</td>\n",
       "    </tr>\n",
       "    <tr>\n",
       "      <th>5</th>\n",
       "      <td>5</td>\n",
       "      <td>0.019507</td>\n",
       "    </tr>\n",
       "    <tr>\n",
       "      <th>17</th>\n",
       "      <td>17</td>\n",
       "      <td>0.018303</td>\n",
       "    </tr>\n",
       "    <tr>\n",
       "      <th>7</th>\n",
       "      <td>7</td>\n",
       "      <td>0.018010</td>\n",
       "    </tr>\n",
       "    <tr>\n",
       "      <th>25</th>\n",
       "      <td>25</td>\n",
       "      <td>0.016182</td>\n",
       "    </tr>\n",
       "    <tr>\n",
       "      <th>29</th>\n",
       "      <td>29</td>\n",
       "      <td>0.015407</td>\n",
       "    </tr>\n",
       "    <tr>\n",
       "      <th>2</th>\n",
       "      <td>2</td>\n",
       "      <td>0.013341</td>\n",
       "    </tr>\n",
       "    <tr>\n",
       "      <th>19</th>\n",
       "      <td>19</td>\n",
       "      <td>0.011756</td>\n",
       "    </tr>\n",
       "    <tr>\n",
       "      <th>10</th>\n",
       "      <td>10</td>\n",
       "      <td>0.010033</td>\n",
       "    </tr>\n",
       "    <tr>\n",
       "      <th>26</th>\n",
       "      <td>26</td>\n",
       "      <td>0.009739</td>\n",
       "    </tr>\n",
       "    <tr>\n",
       "      <th>20</th>\n",
       "      <td>20</td>\n",
       "      <td>0.008307</td>\n",
       "    </tr>\n",
       "    <tr>\n",
       "      <th>28</th>\n",
       "      <td>28</td>\n",
       "      <td>0.006578</td>\n",
       "    </tr>\n",
       "    <tr>\n",
       "      <th>12</th>\n",
       "      <td>12</td>\n",
       "      <td>0.002954</td>\n",
       "    </tr>\n",
       "    <tr>\n",
       "      <th>23</th>\n",
       "      <td>23</td>\n",
       "      <td>0.000019</td>\n",
       "    </tr>\n",
       "  </tbody>\n",
       "</table>\n",
       "</div>"
      ],
      "text/plain": [
       "    topic  prevalence\n",
       "4       4    0.052164\n",
       "16     16    0.046975\n",
       "35     35    0.046289\n",
       "37     37    0.040688\n",
       "3       3    0.039892\n",
       "31     31    0.039479\n",
       "24     24    0.038220\n",
       "18     18    0.037981\n",
       "8       8    0.037809\n",
       "36     36    0.037052\n",
       "6       6    0.034352\n",
       "14     14    0.033043\n",
       "1       1    0.032735\n",
       "9       9    0.026977\n",
       "22     22    0.026500\n",
       "15     15    0.025688\n",
       "32     32    0.025540\n",
       "13     13    0.025422\n",
       "34     34    0.024939\n",
       "11     11    0.023973\n",
       "27     27    0.023450\n",
       "38     38    0.022701\n",
       "39     39    0.022555\n",
       "30     30    0.022274\n",
       "33     33    0.022237\n",
       "0       0    0.020752\n",
       "21     21    0.020176\n",
       "5       5    0.019507\n",
       "17     17    0.018303\n",
       "7       7    0.018010\n",
       "25     25    0.016182\n",
       "29     29    0.015407\n",
       "2       2    0.013341\n",
       "19     19    0.011756\n",
       "10     10    0.010033\n",
       "26     26    0.009739\n",
       "20     20    0.008307\n",
       "28     28    0.006578\n",
       "12     12    0.002954\n",
       "23     23    0.000019"
      ]
     },
     "execution_count": 31,
     "metadata": {},
     "output_type": "execute_result"
    }
   ],
   "source": [
    "#Find the prevalence of each topic\n",
    "prevalence = []\n",
    "i = 0\n",
    "for e in col_list:\n",
    "    prev = df_w_topics[e].sum()/df_w_topics['word_count'].sum()\n",
    "    tup =(i,prev)\n",
    "    prevalence.append(tup)\n",
    "    i += 1\n",
    "prevalence = pd.DataFrame(prevalence)\n",
    "prevalence.columns = ['topic','prevalence']\n",
    "prevalence.sort_values(by=['prevalence'], ascending=False)"
   ]
  },
  {
   "cell_type": "code",
   "execution_count": 36,
   "metadata": {},
   "outputs": [],
   "source": [
    "prevalence.to_csv('output/prevalence_per_topic_lq.csv', encoding='utf-8', index=False, header=True)"
   ]
  },
  {
   "cell_type": "code",
   "execution_count": 68,
   "metadata": {},
   "outputs": [
    {
     "name": "stderr",
     "output_type": "stream",
     "text": [
      "/anaconda3/lib/python3.7/site-packages/matplotlib/cbook/deprecation.py:107: MatplotlibDeprecationWarning: Adding an axes using the same arguments as a previous axes currently reuses the earlier instance.  In a future version, a new instance will always be created and returned.  Meanwhile, this warning can be suppressed, and the future behavior ensured, by passing a unique label to each axes instance.\n",
      "  warnings.warn(message, mplDeprecation, stacklevel=1)\n"
     ]
    }
   ],
   "source": [
    "grouped_year = df_w_topics.groupby('pub_year')\n",
    "fig3 = plt.figure()\n",
    "# divide the number of topic words in each year by the total word count per year (so the figure adjusts to each year's output)\n",
    "for e in col_list:\n",
    "    ax2 = fig3.add_subplot(1,1,1)\n",
    "    (grouped_year[e].sum()/grouped_year['word_count'].sum()).plot(kind='line', title=e)\n",
    "    fig3.tight_layout()\n",
    "    #plt.show()\n",
    "    filename = 'output/plots/plot_' + str(e) + '.png'\n",
    "    plt.savefig(filename)\n",
    "    plt.close()"
   ]
  },
  {
   "cell_type": "markdown",
   "metadata": {},
   "source": [
    "### Document term matrix\n",
    "Create document-term-matrix dataframe, dtm_df, to look at the following (ignoring topic models):\n",
    "* most common words in corpus\n",
    "* average number of times each word is used in an article"
   ]
  },
  {
   "cell_type": "code",
   "execution_count": 38,
   "metadata": {},
   "outputs": [],
   "source": [
    "dtm_df = pd.DataFrame(tf_vectorizer.fit_transform(df_all.body.values.astype('U')).toarray(), columns=tf_vectorizer.get_feature_names(), index = df_all.index)"
   ]
  },
  {
   "cell_type": "code",
   "execution_count": 39,
   "metadata": {},
   "outputs": [],
   "source": [
    "#Find most common words in corpus + avg times each is used in an article \n",
    "most_common_words = dtm_df.sum().sort_values(ascending=False)[0:500]\n",
    "avg_times_used = dtm_df.mean().sort_values(ascending=False)[0:500]\n",
    "df_top = pd.DataFrame(most_common_words)\n",
    "df_top.columns = ['word_count']\n",
    "df_top['avg_used'] = avg_times_used\n",
    "df_top.to_csv('output/top_words_lq.csv', encoding='utf-8', index=True, header=True)"
   ]
  },
  {
   "cell_type": "markdown",
   "metadata": {},
   "source": [
    "## Individual articles"
   ]
  },
  {
   "cell_type": "code",
   "execution_count": 166,
   "metadata": {},
   "outputs": [
    {
     "data": {
      "text/html": [
       "<div>\n",
       "<style scoped>\n",
       "    .dataframe tbody tr th:only-of-type {\n",
       "        vertical-align: middle;\n",
       "    }\n",
       "\n",
       "    .dataframe tbody tr th {\n",
       "        vertical-align: top;\n",
       "    }\n",
       "\n",
       "    .dataframe thead th {\n",
       "        text-align: right;\n",
       "    }\n",
       "</style>\n",
       "<table border=\"1\" class=\"dataframe\">\n",
       "  <thead>\n",
       "    <tr style=\"text-align: right;\">\n",
       "      <th></th>\n",
       "      <th>file_name</th>\n",
       "      <th>journal_doi</th>\n",
       "      <th>journal_jcode</th>\n",
       "      <th>journal_pub_id</th>\n",
       "      <th>journal_title</th>\n",
       "      <th>article_doi</th>\n",
       "      <th>article_pub_id</th>\n",
       "      <th>article_jcode</th>\n",
       "      <th>article_type</th>\n",
       "      <th>article_title</th>\n",
       "      <th>...</th>\n",
       "      <th>pub_day</th>\n",
       "      <th>pub_month</th>\n",
       "      <th>pub_year</th>\n",
       "      <th>first_page</th>\n",
       "      <th>last_page</th>\n",
       "      <th>page_range</th>\n",
       "      <th>jid_combined</th>\n",
       "      <th>Unnamed: 0</th>\n",
       "      <th>n_id</th>\n",
       "      <th>body</th>\n",
       "    </tr>\n",
       "  </thead>\n",
       "  <tbody>\n",
       "    <tr>\n",
       "      <th>3958</th>\n",
       "      <td>10.2307_4309398</td>\n",
       "      <td></td>\n",
       "      <td>libraryq</td>\n",
       "      <td></td>\n",
       "      <td>The Library Quarterly: Information, Community,...</td>\n",
       "      <td></td>\n",
       "      <td></td>\n",
       "      <td>4309398</td>\n",
       "      <td>research-article</td>\n",
       "      <td>\"No Philosophy Carries so Much Conviction as t...</td>\n",
       "      <td>...</td>\n",
       "      <td>1</td>\n",
       "      <td>1</td>\n",
       "      <td>2000</td>\n",
       "      <td>1</td>\n",
       "      <td>46</td>\n",
       "      <td>1-46</td>\n",
       "      <td>libraryq</td>\n",
       "      <td>6291</td>\n",
       "      <td>10.2307_4309398</td>\n",
       "      <td>her her her her her her her her her her her he...</td>\n",
       "    </tr>\n",
       "  </tbody>\n",
       "</table>\n",
       "<p>1 rows × 23 columns</p>\n",
       "</div>"
      ],
      "text/plain": [
       "            file_name journal_doi journal_jcode journal_pub_id  \\\n",
       "3958  10.2307_4309398                  libraryq                  \n",
       "\n",
       "                                          journal_title article_doi  \\\n",
       "3958  The Library Quarterly: Information, Community,...               \n",
       "\n",
       "     article_pub_id article_jcode      article_type  \\\n",
       "3958                      4309398  research-article   \n",
       "\n",
       "                                          article_title  \\\n",
       "3958  \"No Philosophy Carries so Much Conviction as t...   \n",
       "\n",
       "                            ...                          pub_day pub_month  \\\n",
       "3958                        ...                                1         1   \n",
       "\n",
       "     pub_year first_page  last_page  page_range jid_combined Unnamed: 0  \\\n",
       "3958     2000          1         46        1-46     libraryq       6291   \n",
       "\n",
       "                 n_id                                               body  \n",
       "3958  10.2307_4309398  her her her her her her her her her her her he...  \n",
       "\n",
       "[1 rows x 23 columns]"
      ]
     },
     "execution_count": 166,
     "metadata": {},
     "output_type": "execute_result"
    }
   ],
   "source": [
    "topic_10_1 = df_all[df_all['article_jcode'].str.contains('4309398')]\n",
    "topic_10_1"
   ]
  },
  {
   "cell_type": "markdown",
   "metadata": {},
   "source": [
    "## Alt: Create topic model viz\n",
    "* Use pyLDA vis to visualize alternate topics generated via scikit-learn\n",
    "* outputs to html file for future reference outside of notebook\n",
    "* pyLDAvis is based on LDAvis (for R) and using \"relevance\" method for ranking terms within a topic"
   ]
  },
  {
   "cell_type": "code",
   "execution_count": 98,
   "metadata": {},
   "outputs": [
    {
     "name": "stderr",
     "output_type": "stream",
     "text": [
      "/anaconda3/lib/python3.7/site-packages/pyLDAvis/_prepare.py:257: FutureWarning: Sorting because non-concatenation axis is not aligned. A future version\n",
      "of pandas will change to not sort by default.\n",
      "\n",
      "To accept the future behavior, pass 'sort=False'.\n",
      "\n",
      "To retain the current behavior and silence the warning, pass 'sort=True'.\n",
      "\n",
      "  return pd.concat([default_term_info] + list(topic_dfs))\n"
     ]
    }
   ],
   "source": [
    "pyLDAvis.enable_notebook()\n",
    "p = pyLDAvis.sklearn.prepare(lda, tf, tf_vectorizer)\n",
    "pyLDAvis.save_html(p,'output/lda_tm_lq.html')"
   ]
  }
 ],
 "metadata": {
  "kernelspec": {
   "display_name": "Python 3",
   "language": "python",
   "name": "python3"
  },
  "language_info": {
   "codemirror_mode": {
    "name": "ipython",
    "version": 3
   },
   "file_extension": ".py",
   "mimetype": "text/x-python",
   "name": "python",
   "nbconvert_exporter": "python",
   "pygments_lexer": "ipython3",
   "version": "3.7.0"
  }
 },
 "nbformat": 4,
 "nbformat_minor": 2
}
